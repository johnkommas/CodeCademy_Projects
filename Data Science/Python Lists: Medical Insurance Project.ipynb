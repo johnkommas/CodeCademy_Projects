{
 "cells": [
  {
   "cell_type": "markdown",
   "metadata": {
    "collapsed": true
   },
   "source": [
    "# Python Lists: Medical Insurance Project"
   ]
  },
  {
   "cell_type": "markdown",
   "metadata": {},
   "source": [
    "In this project, you will examine how factors such as age, sex, BMI, number of children, and smoking status contribute to medical insurance costs.\n",
    "\n",
    "You will apply your new knowledge of Python Lists to store insurance cost data in a list as well as compare estimated insurance costs to actual insurance costs.\n",
    "\n",
    "Let’s get started!"
   ]
  },
  {
   "cell_type": "markdown",
   "metadata": {},
   "source": [
    "# Step 1\n",
    "First, take a look at the code in script.py.\n",
    "\n",
    "The function estimate_insurance_cost() estimates the medical insurance cost for an individual, based on five variables:\n",
    "\n",
    "age: age of the individual in years\n",
    "sex: 0 for female, 1 for male\n",
    "bmi: individual’s body mass index\n",
    "num_of_children: number of children the individual has\n",
    "smoker: 0 for a non-smoker, 1 for a smoker\n",
    "These variables are used in the following formula to estimate an individual’s insurance cost (in USD):\n",
    "\n",
    "\n",
    "* insurance_cost=250∗age−128∗sex+370∗bmi+425∗num_of_children+24000∗smoker−12500\n",
    "* Click “Save” to see the estimated insurance costs for three individuals – Maria, Rohan, and Valentina."
   ]
  },
  {
   "cell_type": "code",
   "execution_count": 1,
   "metadata": {},
   "outputs": [
    {
     "name": "stdout",
     "output_type": "stream",
     "text": [
      "Maria's Estimated Insurance Cost: 4222.0 dollars.\n",
      "Rohan's Estimated Insurance Cost: 5442.0 dollars.\n",
      "Valentina's Estimated Insurance Cost: 36368.0 dollars.\n"
     ]
    }
   ],
   "source": [
    "# Function to estimate insurance cost:\n",
    "def estimate_insurance_cost(name, age, sex, bmi, num_of_children, smoker):\n",
    "  estimated_cost = 250*age - 128*sex + 370*bmi + 425*num_of_children + 24000*smoker - 12500\n",
    "  print(name + \"'s Estimated Insurance Cost: \" + str(estimated_cost) + \" dollars.\")\n",
    "  return estimated_cost\n",
    " \n",
    "# Estimate Maria's insurance cost\n",
    "maria_insurance_cost = estimate_insurance_cost(name = \"Maria\", age = 31, sex = 0, bmi = 23.1, num_of_children = 1, smoker = 0)\n",
    "\n",
    "# Estimate Rohan's insurance cost\n",
    "rohan_insurance_cost = estimate_insurance_cost(name = \n",
    "\"Rohan\", age = 25, sex = 1, bmi = 28.5, num_of_children = 3, smoker = 0)\n",
    "\n",
    "# Estimate Valentina's insurance cost\n",
    "valentina_insurance_cost = estimate_insurance_cost(name = \"Valentina\", age = 53, sex = 0, bmi = 31.4, num_of_children = 0, smoker = 1)\n",
    "\n",
    "# Add your code here"
   ]
  },
  {
   "cell_type": "markdown",
   "metadata": {},
   "source": [
    "# Step 2\n",
    "We want to compare the estimated insurance costs (as calculated by our function) to the actual amounts that Maria, Rohan, and Valentina paid.\n",
    "\n",
    "Create a list called `names` and fill it with the names of the individuals you are estimating insurance costs for:\n",
    "\n",
    "\"Maria\"\n",
    "\"Rohan\"\n",
    "\"Valentina\""
   ]
  },
  {
   "cell_type": "code",
   "execution_count": 2,
   "metadata": {},
   "outputs": [],
   "source": [
    "names = ['Maria', 'Rohan', 'Valentina']"
   ]
  },
  {
   "cell_type": "markdown",
   "metadata": {},
   "source": [
    "# Step 3\n",
    "\n",
    "Next, create a list called `insurance_costs` and fill it with the actual amounts that Maria, Rohan, and Valentina paid for insurance:\n",
    "\n",
    "4150.0\n",
    "5320.0\n",
    "35210.0"
   ]
  },
  {
   "cell_type": "code",
   "execution_count": 3,
   "metadata": {},
   "outputs": [],
   "source": [
    "insurance_costs = [4150, 5320, 35210]"
   ]
  },
  {
   "cell_type": "markdown",
   "metadata": {},
   "source": [
    "# <center>Combining Lists</center>\n",
    "# Step 4\n",
    "\n",
    "Currently the names and insurance_costs lists are separate, but we want each name to be paired with an insurance cost.\n",
    "\n",
    "Create a new variable called `insurance_data` that combines names and insurance_costs using the zip() function.\n",
    "\n",
    "Print this new variable."
   ]
  },
  {
   "cell_type": "code",
   "execution_count": 4,
   "metadata": {
    "pycharm": {
     "name": "#%%\n"
    }
   },
   "outputs": [],
   "source": [
    "insurance_data = zip(names, insurance_costs)"
   ]
  },
  {
   "cell_type": "markdown",
   "metadata": {
    "pycharm": {
     "name": "#%% md\n"
    }
   },
   "source": [
    "# Step 5\n",
    "\n",
    "Convert the insurance_data object to a list using this method. Click “Save” to see the result – you should now see a list of names and insurance costs.\n",
    "\n"
   ]
  },
  {
   "cell_type": "code",
   "execution_count": 5,
   "metadata": {
    "pycharm": {
     "name": "#%%\n"
    }
   },
   "outputs": [],
   "source": [
    "insurance_data = list(insurance_data)"
   ]
  },
  {
   "cell_type": "markdown",
   "metadata": {
    "pycharm": {
     "name": "#%% md\n"
    }
   },
   "source": [
    "# <center> Appending to a List </center>\n",
    "# Step 6\n",
    "Next, create an empty list called `estimated_insurance_data`.\n",
    "\n",
    "This is the list we’ll use to store the estimated insurance costs for our three individuals."
   ]
  },
  {
   "cell_type": "code",
   "execution_count": 6,
   "metadata": {
    "pycharm": {
     "name": "#%%\n"
    }
   },
   "outputs": [],
   "source": [
    "estimated_insurance_data = []"
   ]
  },
  {
   "cell_type": "markdown",
   "metadata": {
    "pycharm": {
     "name": "#%% md\n"
    }
   },
   "source": [
    "# Step 7\n",
    "We want to add our estimated insurance data for Maria, Rohan, and Valentina to the estimated_insurance_data list.\n",
    "\n",
    "Use .append() to add (\"Maria\", maria_insurance_cost) to estimated_insurance_data. Do the same for Rohan and Valentina.\n",
    "\n"
   ]
  },
  {
   "cell_type": "code",
   "execution_count": 7,
   "metadata": {
    "pycharm": {
     "name": "#%%\n"
    }
   },
   "outputs": [],
   "source": [
    "estimated_insurance_data.append(('Maria', maria_insurance_cost))\n",
    "estimated_insurance_data.append(('Rohan', rohan_insurance_cost))\n",
    "estimated_insurance_data.append(('Valentina', valentina_insurance_cost))"
   ]
  },
  {
   "cell_type": "markdown",
   "metadata": {
    "pycharm": {
     "name": "#%% md\n"
    }
   },
   "source": [
    "# <center> Inspecting the data </center>\n",
    "# Step 9\n",
    "In the output, you should see two lists. The first one represents the actual insurance cost data and the second one represents the estimated insurance cost data.\n",
    "\n",
    "However, it’s difficult to know this just by looking at the output. As a data scientist, you want to make sure that your data is clean and easy to understand.\n",
    "\n",
    "Add to the print statement for insurance_data so that it’s clear what the list contains. The output of the print statement should look like:\n",
    "\n",
    "* Here is the actual insurance cost data: [...list output...]\n"
   ]
  },
  {
   "cell_type": "code",
   "execution_count": 8,
   "metadata": {
    "pycharm": {
     "name": "#%%\n"
    }
   },
   "outputs": [
    {
     "name": "stdout",
     "output_type": "stream",
     "text": [
      "Here is the actual insurance cost data: [('Maria', 4150), ('Rohan', 5320), ('Valentina', 35210)]\n"
     ]
    }
   ],
   "source": [
    "print(f'Here is the actual insurance cost data: {insurance_data}')"
   ]
  },
  {
   "cell_type": "markdown",
   "metadata": {
    "pycharm": {
     "name": "#%% md\n"
    }
   },
   "source": [
    "# Step 10\n",
    "Do the same for the print statement that prints estimated_insurance_data. The output should look like:"
   ]
  },
  {
   "cell_type": "code",
   "execution_count": 9,
   "metadata": {
    "pycharm": {
     "name": "#%%\n"
    }
   },
   "outputs": [
    {
     "name": "stdout",
     "output_type": "stream",
     "text": [
      "Here is the estimated insurance cost data: [('Maria', 4222.0), ('Rohan', 5442.0), ('Valentina', 36368.0)]\n"
     ]
    }
   ],
   "source": [
    "print(f'Here is the estimated insurance cost data: {estimated_insurance_data}')\n"
   ]
  },
  {
   "cell_type": "code",
   "execution_count": null,
   "metadata": {
    "pycharm": {
     "name": "#%%\n"
    }
   },
   "outputs": [],
   "source": []
  }
 ],
 "metadata": {
  "kernelspec": {
   "display_name": "Python 3",
   "language": "python",
   "name": "python3"
  },
  "language_info": {
   "codemirror_mode": {
    "name": "ipython",
    "version": 3
   },
   "file_extension": ".py",
   "mimetype": "text/x-python",
   "name": "python",
   "nbconvert_exporter": "python",
   "pygments_lexer": "ipython3",
   "version": "3.8.6"
  }
 },
 "nbformat": 4,
 "nbformat_minor": 1
}