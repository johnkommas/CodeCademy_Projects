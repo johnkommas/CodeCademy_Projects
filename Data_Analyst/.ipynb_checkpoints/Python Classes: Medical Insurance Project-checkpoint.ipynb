{
 "cells": [
  {
   "cell_type": "markdown",
   "metadata": {
    "collapsed": true
   },
   "source": [
    "You have been asked to develop a system that makes it easier to organize patient data. You will create a class that does the following:\n",
    "\n",
    "* Takes in patient parameters regarding their personal information\n",
    "* Contains methods that allow users to update their information\n",
    "* Gives patients insight into their potential medical fees."
   ]
  },
  {
   "cell_type": "code",
   "execution_count": null,
   "metadata": {},
   "outputs": [],
   "source": []
  }
 ],
 "metadata": {
  "kernelspec": {
   "display_name": "Python 3",
   "language": "python",
   "name": "python3"
  },
  "language_info": {
   "codemirror_mode": {
    "name": "ipython",
    "version": 3
   },
   "file_extension": ".py",
   "mimetype": "text/x-python",
   "name": "python",
   "nbconvert_exporter": "python",
   "pygments_lexer": "ipython3",
   "version": "3.8.6"
  }
 },
 "nbformat": 4,
 "nbformat_minor": 1
}
