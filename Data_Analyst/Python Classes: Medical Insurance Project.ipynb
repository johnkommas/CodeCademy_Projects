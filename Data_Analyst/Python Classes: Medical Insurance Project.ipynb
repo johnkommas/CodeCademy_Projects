{
 "cells": [
  {
   "cell_type": "markdown",
   "metadata": {
    "collapsed": true
   },
   "source": [
    "You have been asked to develop a system that makes it easier to organize patient data. You will create a class that does the following:\n",
    "\n",
    "* Takes in patient parameters regarding their personal information\n",
    "* Contains methods that allow users to update their information\n",
    "* Gives patients insight into their potential medical fees."
   ]
  },
  {
   "cell_type": "markdown",
   "metadata": {},
   "source": [
    "---\n",
    "Below you will see that we have started a class called Patient. It currently has an __init__ method with two class variables: self.name and self.age.\n",
    "\n",
    "Let’s start by adding in some more patient parameters:\n",
    "\n",
    "- `sex`: patient’s biological identification, 0 for male and 1 for female\n",
    "- `bmi`: patient BMI\n",
    "- `num_of_children`: number of children patient has\n",
    "- `smoker`: patient smoking status, 0 for a non-smoker and 1 for a smoker\n",
    "Add these into the __init__ method so that we can use them as we create our class methods."
   ]
  },
  {
   "cell_type": "code",
   "execution_count": 1,
   "metadata": {},
   "outputs": [],
   "source": [
    "class Patient:\n",
    "  def __init__(self, name, age, sex, bmi, num_of_children, smoker):\n",
    "    self.name = name\n",
    "    self.age = age\n",
    "    self.sex = sex\n",
    "    self.bmi = bmi\n",
    "    self.num_of_children = num_of_children\n",
    "    self.smoker = smoker"
   ]
  },
  {
   "cell_type": "code",
   "execution_count": null,
   "metadata": {},
   "outputs": [],
   "source": []
  }
 ],
 "metadata": {
  "kernelspec": {
   "display_name": "Python 3",
   "language": "python",
   "name": "python3"
  },
  "language_info": {
   "codemirror_mode": {
    "name": "ipython",
    "version": 3
   },
   "file_extension": ".py",
   "mimetype": "text/x-python",
   "name": "python",
   "nbconvert_exporter": "python",
   "pygments_lexer": "ipython3",
   "version": "3.8.6"
  }
 },
 "nbformat": 4,
 "nbformat_minor": 1
}
